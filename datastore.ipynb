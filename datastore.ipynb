{
 "cells": [
  {
   "cell_type": "markdown",
   "metadata": {},
   "source": [
    "# Songs Recommendation System using Collaborative Filtering"
   ]
  },
  {
   "cell_type": "markdown",
   "metadata": {},
   "source": [
    "## 1. Download dataset through kaggle\n"
   ]
  },
  {
   "cell_type": "code",
   "execution_count": 1,
   "metadata": {},
   "outputs": [
    {
     "name": "stdout",
     "output_type": "stream",
     "text": [
      "Collecting opendatasets\n",
      "  Downloading opendatasets-0.1.20-py3-none-any.whl (14 kB)\n",
      "Requirement already satisfied: tqdm in /home/ec2-user/anaconda3/envs/python3/lib/python3.6/site-packages (from opendatasets) (4.62.3)\n",
      "Collecting kaggle\n",
      "  Downloading kaggle-1.5.12.tar.gz (58 kB)\n",
      "     |████████████████████████████████| 58 kB 10.9 MB/s            \n",
      "\u001b[?25h  Preparing metadata (setup.py) ... \u001b[?25ldone\n",
      "\u001b[?25hRequirement already satisfied: click in /home/ec2-user/anaconda3/envs/python3/lib/python3.6/site-packages (from opendatasets) (7.1.2)\n",
      "Requirement already satisfied: six>=1.10 in /home/ec2-user/anaconda3/envs/python3/lib/python3.6/site-packages (from kaggle->opendatasets) (1.15.0)\n",
      "Requirement already satisfied: certifi in /home/ec2-user/anaconda3/envs/python3/lib/python3.6/site-packages (from kaggle->opendatasets) (2021.5.30)\n",
      "Requirement already satisfied: python-dateutil in /home/ec2-user/anaconda3/envs/python3/lib/python3.6/site-packages (from kaggle->opendatasets) (2.8.1)\n",
      "Requirement already satisfied: requests in /home/ec2-user/anaconda3/envs/python3/lib/python3.6/site-packages (from kaggle->opendatasets) (2.26.0)\n",
      "Collecting python-slugify\n",
      "  Downloading python_slugify-5.0.2-py2.py3-none-any.whl (6.7 kB)\n",
      "Requirement already satisfied: urllib3 in /home/ec2-user/anaconda3/envs/python3/lib/python3.6/site-packages (from kaggle->opendatasets) (1.26.7)\n",
      "Collecting text-unidecode>=1.3\n",
      "  Downloading text_unidecode-1.3-py2.py3-none-any.whl (78 kB)\n",
      "     |████████████████████████████████| 78 kB 13.9 MB/s             \n",
      "\u001b[?25hRequirement already satisfied: charset-normalizer~=2.0.0 in /home/ec2-user/anaconda3/envs/python3/lib/python3.6/site-packages (from requests->kaggle->opendatasets) (2.0.9)\n",
      "Requirement already satisfied: idna<4,>=2.5 in /home/ec2-user/anaconda3/envs/python3/lib/python3.6/site-packages (from requests->kaggle->opendatasets) (3.1)\n",
      "Building wheels for collected packages: kaggle\n",
      "  Building wheel for kaggle (setup.py) ... \u001b[?25ldone\n",
      "\u001b[?25h  Created wheel for kaggle: filename=kaggle-1.5.12-py3-none-any.whl size=73053 sha256=1fe641cb2a82302ce61c80113bb948c2e394db5948aefb045580a64242664939\n",
      "  Stored in directory: /home/ec2-user/.cache/pip/wheels/77/47/e4/44a4ba1b7dfd53faaa35f59f1175e123b213ff401a8a56876b\n",
      "Successfully built kaggle\n",
      "Installing collected packages: text-unidecode, python-slugify, kaggle, opendatasets\n",
      "Successfully installed kaggle-1.5.12 opendatasets-0.1.20 python-slugify-5.0.2 text-unidecode-1.3\n",
      "Please provide your Kaggle credentials to download this dataset. Learn more: http://bit.ly/kaggle-creds\n",
      "Your Kaggle username: "
     ]
    },
    {
     "name": "stdin",
     "output_type": "stream",
     "text": [
      " mamatapoudel\n"
     ]
    },
    {
     "name": "stdout",
     "output_type": "stream",
     "text": [
      "Your Kaggle Key: "
     ]
    },
    {
     "name": "stdin",
     "output_type": "stream",
     "text": [
      " ································\n"
     ]
    },
    {
     "name": "stdout",
     "output_type": "stream",
     "text": [
      "Downloading bollywoodsongs.zip to ./bollywoodsongs\n"
     ]
    },
    {
     "name": "stderr",
     "output_type": "stream",
     "text": [
      "100%|██████████| 58.9k/58.9k [00:00<00:00, 34.9MB/s]"
     ]
    },
    {
     "name": "stdout",
     "output_type": "stream",
     "text": [
      "\n"
     ]
    },
    {
     "name": "stderr",
     "output_type": "stream",
     "text": [
      "\n"
     ]
    }
   ],
   "source": [
    "!pip install opendatasets\n",
    "import opendatasets as od\n",
    "od.download(\"https://www.kaggle.com/rishabjn/bollywoodsongs/download\")"
   ]
  },
  {
   "cell_type": "markdown",
   "metadata": {},
   "source": [
    "## 2. Read data and perform train and test split"
   ]
  },
  {
   "cell_type": "code",
   "execution_count": 3,
   "metadata": {},
   "outputs": [],
   "source": [
    "import os\n",
    "import boto3\n",
    "import sagemaker\n",
    "import numpy as np\n",
    "import pandas as pd"
   ]
  },
  {
   "cell_type": "code",
   "execution_count": 11,
   "metadata": {},
   "outputs": [],
   "source": [
    "fpath = './bollywoodsongs/ex.csv'   #data read \n",
    "df = pd.read_csv(fpath,encoding='Windows-1252')"
   ]
  },
  {
   "cell_type": "code",
   "execution_count": 12,
   "metadata": {},
   "outputs": [
    {
     "data": {
      "text/plain": [
       "{'encoding': 'Windows-1252', 'confidence': 0.73, 'language': ''}"
      ]
     },
     "execution_count": 12,
     "metadata": {},
     "output_type": "execute_result"
    }
   ],
   "source": [
    "import chardet\n",
    "with open(fpath, 'rb') as rawdata:\n",
    "    result = chardet.detect(rawdata.read(100000))\n",
    "result"
   ]
  },
  {
   "cell_type": "code",
   "execution_count": 13,
   "metadata": {},
   "outputs": [
    {
     "data": {
      "text/html": [
       "<div>\n",
       "<style scoped>\n",
       "    .dataframe tbody tr th:only-of-type {\n",
       "        vertical-align: middle;\n",
       "    }\n",
       "\n",
       "    .dataframe tbody tr th {\n",
       "        vertical-align: top;\n",
       "    }\n",
       "\n",
       "    .dataframe thead th {\n",
       "        text-align: right;\n",
       "    }\n",
       "</style>\n",
       "<table border=\"1\" class=\"dataframe\">\n",
       "  <thead>\n",
       "    <tr style=\"text-align: right;\">\n",
       "      <th></th>\n",
       "      <th>SongID</th>\n",
       "      <th>SongName</th>\n",
       "      <th>Singer</th>\n",
       "      <th>Genre</th>\n",
       "      <th>Movie</th>\n",
       "      <th>UserRating</th>\n",
       "      <th>UserID</th>\n",
       "    </tr>\n",
       "  </thead>\n",
       "  <tbody>\n",
       "    <tr>\n",
       "      <th>0</th>\n",
       "      <td>1</td>\n",
       "      <td>Aankh Marey</td>\n",
       "      <td>Kumar Sanu, Mika Singh, Neha Kakkar</td>\n",
       "      <td>BollywoodDance</td>\n",
       "      <td>Simmba</td>\n",
       "      <td>6.8/10</td>\n",
       "      <td>1</td>\n",
       "    </tr>\n",
       "    <tr>\n",
       "      <th>1</th>\n",
       "      <td>2</td>\n",
       "      <td>Coca Cola</td>\n",
       "      <td>Neha Kakkar, Tony Kakkar</td>\n",
       "      <td>BollywoodDanceRomantic</td>\n",
       "      <td>Luka Chuppi</td>\n",
       "      <td>9.0/10</td>\n",
       "      <td>1</td>\n",
       "    </tr>\n",
       "    <tr>\n",
       "      <th>2</th>\n",
       "      <td>3</td>\n",
       "      <td>Apna Time Aayega</td>\n",
       "      <td>Ranveer Singh</td>\n",
       "      <td>BollywoodDance</td>\n",
       "      <td>Gully Boy</td>\n",
       "      <td>4.7/10</td>\n",
       "      <td>1</td>\n",
       "    </tr>\n",
       "    <tr>\n",
       "      <th>3</th>\n",
       "      <td>4</td>\n",
       "      <td>Mungda</td>\n",
       "      <td>Jyotica Tangri, Shaan, Subhro Ganguly</td>\n",
       "      <td>BollywoodDance</td>\n",
       "      <td>Total Dhamaal</td>\n",
       "      <td>9.1/10</td>\n",
       "      <td>1</td>\n",
       "    </tr>\n",
       "    <tr>\n",
       "      <th>4</th>\n",
       "      <td>5</td>\n",
       "      <td>Tere Bin</td>\n",
       "      <td>Asees Kaur, Rahat Fateh Ali Khan, Tanishk Bagchi</td>\n",
       "      <td>BollywoodRomantic</td>\n",
       "      <td>Simmba</td>\n",
       "      <td>3.2/10</td>\n",
       "      <td>1</td>\n",
       "    </tr>\n",
       "    <tr>\n",
       "      <th>5</th>\n",
       "      <td>6</td>\n",
       "      <td>Gali Gali</td>\n",
       "      <td>Neha Kakkar</td>\n",
       "      <td>BollywoodDance</td>\n",
       "      <td>KGF</td>\n",
       "      <td>9.1/10</td>\n",
       "      <td>1</td>\n",
       "    </tr>\n",
       "    <tr>\n",
       "      <th>6</th>\n",
       "      <td>7</td>\n",
       "      <td>Chamma Chamma</td>\n",
       "      <td>Arun, Ikka, Neha Kakkar, Romy</td>\n",
       "      <td>BollywoodDance</td>\n",
       "      <td>Fraud Saiyaan</td>\n",
       "      <td>9.2/10</td>\n",
       "      <td>1</td>\n",
       "    </tr>\n",
       "    <tr>\n",
       "      <th>7</th>\n",
       "      <td>8</td>\n",
       "      <td>Mere Gully Mein</td>\n",
       "      <td>Ranveer Singh</td>\n",
       "      <td>BollywoodDance</td>\n",
       "      <td>Gully Boy</td>\n",
       "      <td>9.5/10</td>\n",
       "      <td>1</td>\n",
       "    </tr>\n",
       "  </tbody>\n",
       "</table>\n",
       "</div>"
      ],
      "text/plain": [
       "   SongID          SongName                                            Singer  \\\n",
       "0       1       Aankh Marey               Kumar Sanu, Mika Singh, Neha Kakkar   \n",
       "1       2         Coca Cola                          Neha Kakkar, Tony Kakkar   \n",
       "2       3  Apna Time Aayega                                     Ranveer Singh   \n",
       "3       4            Mungda             Jyotica Tangri, Shaan, Subhro Ganguly   \n",
       "4       5          Tere Bin  Asees Kaur, Rahat Fateh Ali Khan, Tanishk Bagchi   \n",
       "5       6         Gali Gali                                       Neha Kakkar   \n",
       "6       7     Chamma Chamma                     Arun, Ikka, Neha Kakkar, Romy   \n",
       "7       8   Mere Gully Mein                                     Ranveer Singh   \n",
       "\n",
       "                    Genre          Movie UserRating  UserID  \n",
       "0          BollywoodDance         Simmba     6.8/10       1  \n",
       "1  BollywoodDanceRomantic    Luka Chuppi     9.0/10       1  \n",
       "2          BollywoodDance      Gully Boy     4.7/10       1  \n",
       "3          BollywoodDance  Total Dhamaal     9.1/10       1  \n",
       "4       BollywoodRomantic         Simmba     3.2/10       1  \n",
       "5          BollywoodDance            KGF     9.1/10       1  \n",
       "6          BollywoodDance  Fraud Saiyaan     9.2/10       1  \n",
       "7          BollywoodDance      Gully Boy     9.5/10       1  "
      ]
     },
     "execution_count": 13,
     "metadata": {},
     "output_type": "execute_result"
    }
   ],
   "source": [
    "df.head(8)"
   ]
  },
  {
   "cell_type": "code",
   "execution_count": 14,
   "metadata": {},
   "outputs": [
    {
     "data": {
      "text/plain": [
       "1"
      ]
     },
     "execution_count": 14,
     "metadata": {},
     "output_type": "execute_result"
    }
   ],
   "source": [
    "df.groupby('UserID').SongID.nunique().min()  #maximum number of hold out portion "
   ]
  },
  {
   "cell_type": "code",
   "execution_count": 15,
   "metadata": {},
   "outputs": [
    {
     "data": {
      "text/html": [
       "<div>\n",
       "<style scoped>\n",
       "    .dataframe tbody tr th:only-of-type {\n",
       "        vertical-align: middle;\n",
       "    }\n",
       "\n",
       "    .dataframe tbody tr th {\n",
       "        vertical-align: top;\n",
       "    }\n",
       "\n",
       "    .dataframe thead th {\n",
       "        text-align: right;\n",
       "    }\n",
       "</style>\n",
       "<table border=\"1\" class=\"dataframe\">\n",
       "  <thead>\n",
       "    <tr style=\"text-align: right;\">\n",
       "      <th></th>\n",
       "      <th>SongID</th>\n",
       "      <th>SongName</th>\n",
       "      <th>Singer</th>\n",
       "      <th>Genre</th>\n",
       "      <th>Movie</th>\n",
       "      <th>UserRating</th>\n",
       "      <th>UserID</th>\n",
       "    </tr>\n",
       "  </thead>\n",
       "  <tbody>\n",
       "    <tr>\n",
       "      <th>0</th>\n",
       "      <td>1</td>\n",
       "      <td>Aankh Marey</td>\n",
       "      <td>Kumar Sanu, Mika Singh, Neha Kakkar</td>\n",
       "      <td>BollywoodDance</td>\n",
       "      <td>Simmba</td>\n",
       "      <td>6.8/10</td>\n",
       "      <td>1</td>\n",
       "    </tr>\n",
       "    <tr>\n",
       "      <th>1</th>\n",
       "      <td>2</td>\n",
       "      <td>Coca Cola</td>\n",
       "      <td>Neha Kakkar, Tony Kakkar</td>\n",
       "      <td>BollywoodDanceRomantic</td>\n",
       "      <td>Luka Chuppi</td>\n",
       "      <td>9.0/10</td>\n",
       "      <td>1</td>\n",
       "    </tr>\n",
       "    <tr>\n",
       "      <th>2</th>\n",
       "      <td>3</td>\n",
       "      <td>Apna Time Aayega</td>\n",
       "      <td>Ranveer Singh</td>\n",
       "      <td>BollywoodDance</td>\n",
       "      <td>Gully Boy</td>\n",
       "      <td>4.7/10</td>\n",
       "      <td>1</td>\n",
       "    </tr>\n",
       "    <tr>\n",
       "      <th>3</th>\n",
       "      <td>4</td>\n",
       "      <td>Mungda</td>\n",
       "      <td>Jyotica Tangri, Shaan, Subhro Ganguly</td>\n",
       "      <td>BollywoodDance</td>\n",
       "      <td>Total Dhamaal</td>\n",
       "      <td>9.1/10</td>\n",
       "      <td>1</td>\n",
       "    </tr>\n",
       "    <tr>\n",
       "      <th>4</th>\n",
       "      <td>5</td>\n",
       "      <td>Tere Bin</td>\n",
       "      <td>Asees Kaur, Rahat Fateh Ali Khan, Tanishk Bagchi</td>\n",
       "      <td>BollywoodRomantic</td>\n",
       "      <td>Simmba</td>\n",
       "      <td>3.2/10</td>\n",
       "      <td>1</td>\n",
       "    </tr>\n",
       "    <tr>\n",
       "      <th>...</th>\n",
       "      <td>...</td>\n",
       "      <td>...</td>\n",
       "      <td>...</td>\n",
       "      <td>...</td>\n",
       "      <td>...</td>\n",
       "      <td>...</td>\n",
       "      <td>...</td>\n",
       "    </tr>\n",
       "    <tr>\n",
       "      <th>2415</th>\n",
       "      <td>2416</td>\n",
       "      <td>Jana Tumhare Pyar Mein</td>\n",
       "      <td>Mukesh</td>\n",
       "      <td>BollywoodDance</td>\n",
       "      <td>Sasural</td>\n",
       "      <td>8.5/10</td>\n",
       "      <td>2373</td>\n",
       "    </tr>\n",
       "    <tr>\n",
       "      <th>2416</th>\n",
       "      <td>2417</td>\n",
       "      <td>Tum Jaise Bigde Babu Se</td>\n",
       "      <td>Lata Mangeshkar</td>\n",
       "      <td>BollywoodDance</td>\n",
       "      <td>Jab Pyar Kisi Se Hota Hai</td>\n",
       "      <td>8.5/10</td>\n",
       "      <td>2373</td>\n",
       "    </tr>\n",
       "    <tr>\n",
       "      <th>2417</th>\n",
       "      <td>2418</td>\n",
       "      <td>O Yaad Nahi Bhool Gaya</td>\n",
       "      <td>Lata Mangeshkar, Suresh Wadkar</td>\n",
       "      <td>BollywoodDance</td>\n",
       "      <td>Lamhe</td>\n",
       "      <td>8.5/10</td>\n",
       "      <td>2373</td>\n",
       "    </tr>\n",
       "    <tr>\n",
       "      <th>2418</th>\n",
       "      <td>2419</td>\n",
       "      <td>Ladi Re Ladi Tujhse Aankh Jo Ladi</td>\n",
       "      <td>Jagjit Kaur</td>\n",
       "      <td>BollywoodDance</td>\n",
       "      <td>Shola Aur Shabnam</td>\n",
       "      <td>8.5/10</td>\n",
       "      <td>2373</td>\n",
       "    </tr>\n",
       "    <tr>\n",
       "      <th>2419</th>\n",
       "      <td>2420</td>\n",
       "      <td>Mummy Aur Daddy Mein Ladai Ho Gayi</td>\n",
       "      <td>Asha Bhosle</td>\n",
       "      <td>BollywoodDance</td>\n",
       "      <td>Shola Aur Shabnam</td>\n",
       "      <td>6.6/10</td>\n",
       "      <td>2373</td>\n",
       "    </tr>\n",
       "  </tbody>\n",
       "</table>\n",
       "<p>2420 rows × 7 columns</p>\n",
       "</div>"
      ],
      "text/plain": [
       "      SongID                            SongName  \\\n",
       "0          1                         Aankh Marey   \n",
       "1          2                           Coca Cola   \n",
       "2          3                    Apna Time Aayega   \n",
       "3          4                              Mungda   \n",
       "4          5                            Tere Bin   \n",
       "...      ...                                 ...   \n",
       "2415    2416              Jana Tumhare Pyar Mein   \n",
       "2416    2417             Tum Jaise Bigde Babu Se   \n",
       "2417    2418              O Yaad Nahi Bhool Gaya   \n",
       "2418    2419   Ladi Re Ladi Tujhse Aankh Jo Ladi   \n",
       "2419    2420  Mummy Aur Daddy Mein Ladai Ho Gayi   \n",
       "\n",
       "                                                Singer  \\\n",
       "0                  Kumar Sanu, Mika Singh, Neha Kakkar   \n",
       "1                             Neha Kakkar, Tony Kakkar   \n",
       "2                                        Ranveer Singh   \n",
       "3                Jyotica Tangri, Shaan, Subhro Ganguly   \n",
       "4     Asees Kaur, Rahat Fateh Ali Khan, Tanishk Bagchi   \n",
       "...                                                ...   \n",
       "2415                                            Mukesh   \n",
       "2416                                   Lata Mangeshkar   \n",
       "2417                    Lata Mangeshkar, Suresh Wadkar   \n",
       "2418                                       Jagjit Kaur   \n",
       "2419                                       Asha Bhosle   \n",
       "\n",
       "                       Genre                      Movie UserRating  UserID  \n",
       "0             BollywoodDance                     Simmba     6.8/10       1  \n",
       "1     BollywoodDanceRomantic                Luka Chuppi     9.0/10       1  \n",
       "2             BollywoodDance                  Gully Boy     4.7/10       1  \n",
       "3             BollywoodDance              Total Dhamaal     9.1/10       1  \n",
       "4          BollywoodRomantic                     Simmba     3.2/10       1  \n",
       "...                      ...                        ...        ...     ...  \n",
       "2415          BollywoodDance                    Sasural     8.5/10    2373  \n",
       "2416          BollywoodDance  Jab Pyar Kisi Se Hota Hai     8.5/10    2373  \n",
       "2417          BollywoodDance                      Lamhe     8.5/10    2373  \n",
       "2418          BollywoodDance          Shola Aur Shabnam     8.5/10    2373  \n",
       "2419          BollywoodDance          Shola Aur Shabnam     6.6/10    2373  \n",
       "\n",
       "[2420 rows x 7 columns]"
      ]
     },
     "execution_count": 15,
     "metadata": {},
     "output_type": "execute_result"
    }
   ],
   "source": [
    "df.replace(np.nan,0)"
   ]
  },
  {
   "cell_type": "code",
   "execution_count": 19,
   "metadata": {},
   "outputs": [],
   "source": [
    "def train_test_split(df, holdout_num):\n",
    "    df = df.sort_values([ 'UserID'])\n",
    "    \n",
    "    # perform deep copy on the dataframe to avoid modification on the original dataframe\n",
    "    df_train = df.copy(deep=True)\n",
    "    df_test = df.copy(deep=True)\n",
    "    \n",
    "    df_test = df_test.groupby(['UserID']).head(holdout_num).reset_index()  # get test set\n",
    "    df_train = df_train.merge(df_test[['UserID', 'SongID']].assign(remove=1),\n",
    "                              how='left').query('remove != 1').drop('remove', 1).reset_index(drop=True)                              #get test set\n",
    "     \n",
    "    assert len(df) == len(df_train) + len(df_test)  #checking for not losing/duplicating data\n",
    "    return df_train, df_test"
   ]
  },
  {
   "cell_type": "code",
   "execution_count": 20,
   "metadata": {},
   "outputs": [],
   "source": [
    "df_train, df_test = train_test_split(df, 10)"
   ]
  },
  {
   "cell_type": "markdown",
   "metadata": {},
   "source": [
    "## 3. Done for negative sampling"
   ]
  },
  {
   "cell_type": "markdown",
   "metadata": {},
   "source": [
    "There is not compulsary to have always positive number or ratings(label) that's why negative sampling is used."
   ]
  },
  {
   "cell_type": "code",
   "execution_count": 21,
   "metadata": {},
   "outputs": [],
   "source": [
    "def negative_sampling(user_ids, song_ids, items, n_neg):\n",
    "    \"\"\"This function creates n_neg negative labels for every positive label\n",
    "    \n",
    "    @param user_ids: list of user ids\n",
    "    @param song_ids: list of song ids\n",
    "    @param items: unique list of song ids\n",
    "    @param n_neg: number of negative labels to sample\n",
    "    \n",
    "    @return df_neg: negative sample dataframe\n",
    "    \n",
    "    \"\"\"\n",
    "    \n",
    "    neg = []\n",
    "    ui_pairs = zip(user_ids, song_ids)\n",
    "    records = set(ui_pairs)\n",
    "    \n",
    "    # for every positive label case\n",
    "    for (u, i) in records:\n",
    "        # generate n_neg negative labels\n",
    "        for _ in range(n_neg):\n",
    "            # if the randomly sampled movie exists for that user\n",
    "            j = np.random.choice(items)\n",
    "            while(u, j) in records:\n",
    "                # resample\n",
    "                j = np.random.choice(items)\n",
    "            neg.append([u, j, 0])\n",
    "    # conver to pandas dataframe for concatenation later\n",
    "    df_neg = pd.DataFrame(neg, columns=['UserID', 'SongID', 'UserRating'])\n",
    "    \n",
    "    return df_neg"
   ]
  },
  {
   "cell_type": "code",
   "execution_count": 22,
   "metadata": {},
   "outputs": [],
   "source": [
    "neg_train = negative_sampling( user_ids=df_train.UserID.values, \n",
    "                               song_ids=df_train.SongID.values,\n",
    "                               items=df.SongID.unique(),\n",
    "                                n_neg=5\n",
    "                             ) # create negative samples for training set"
   ]
  },
  {
   "cell_type": "code",
   "execution_count": 23,
   "metadata": {},
   "outputs": [
    {
     "name": "stdout",
     "output_type": "stream",
     "text": [
      "created 10,090 negative samples\n"
     ]
    }
   ],
   "source": [
    "print(f'created {neg_train.shape[0]:,} negative samples')"
   ]
  },
  {
   "cell_type": "code",
   "execution_count": 24,
   "metadata": {},
   "outputs": [],
   "source": [
    "df_train = df_train[['UserID', 'SongID']].assign(UserRating=1)\n",
    "df_test = df_test[['UserID', 'SongID']].assign(UserRating=1)\n",
    "\n",
    "df_train = pd.concat([df_train, neg_train], ignore_index=True)"
   ]
  },
  {
   "cell_type": "markdown",
   "metadata": {},
   "source": [
    "## 4.Model training"
   ]
  },
  {
   "cell_type": "code",
   "execution_count": 25,
   "metadata": {},
   "outputs": [],
   "source": [
    "def get_unique_count(df):\n",
    "    return df.UserID.nunique(), df.SongID.nunique() #count of unique user and songs"
   ]
  },
  {
   "cell_type": "code",
   "execution_count": 26,
   "metadata": {},
   "outputs": [
    {
     "data": {
      "text/plain": [
       "(42, 2420)"
      ]
     },
     "execution_count": 26,
     "metadata": {},
     "output_type": "execute_result"
    }
   ],
   "source": [
    "get_unique_count(df) #total count of unique user and song"
   ]
  },
  {
   "cell_type": "code",
   "execution_count": 27,
   "metadata": {},
   "outputs": [
    {
     "name": "stdout",
     "output_type": "stream",
     "text": [
      "training set shape (39, 2418)\n",
      "testing set shape (42, 402)\n"
     ]
    }
   ],
   "source": [
    "print('training set shape', get_unique_count(df_train))\n",
    "print('testing set shape', get_unique_count(df_test))"
   ]
  },
  {
   "cell_type": "code",
   "execution_count": 28,
   "metadata": {},
   "outputs": [
    {
     "name": "stdout",
     "output_type": "stream",
     "text": [
      "number of unique users 39\n",
      "number of unique items 2418\n"
     ]
    }
   ],
   "source": [
    "n_user, n_item = get_unique_count(df_train)\n",
    "print(\"number of unique users\", n_user) #number of unique user\n",
    "print(\"number of unique items\", n_item) # number of unique song"
   ]
  },
  {
   "cell_type": "code",
   "execution_count": 35,
   "metadata": {},
   "outputs": [
    {
     "name": "stdout",
     "output_type": "stream",
     "text": [
      "Stored 'n_user' (int)\n",
      "Stored 'n_item' (int)\n"
     ]
    }
   ],
   "source": [
    "%store n_user  \n",
    "%store n_item"
   ]
  },
  {
   "cell_type": "markdown",
   "metadata": {},
   "source": [
    "## 5. Preprocess data and upload them onto S3"
   ]
  },
  {
   "cell_type": "code",
   "execution_count": 36,
   "metadata": {},
   "outputs": [
    {
     "name": "stdout",
     "output_type": "stream",
     "text": [
      "currently in us-east-1\n"
     ]
    }
   ],
   "source": [
    "session = boto3.session.Session()\n",
    "region = session.region_name\n",
    "print(f'currently in {region}') # get current session region"
   ]
  },
  {
   "cell_type": "code",
   "execution_count": 37,
   "metadata": {},
   "outputs": [
    {
     "name": "stdout",
     "output_type": "stream",
     "text": [
      "sagemaker-us-east-1-452957727655\n"
     ]
    }
   ],
   "source": [
    "sagemaker_session = sagemaker.Session()\n",
    "bucket_name = sagemaker_session.default_bucket()\n",
    "print(bucket_name)"
   ]
  },
  {
   "cell_type": "markdown",
   "metadata": {},
   "source": [
    "**upload data to the S3 bucket**"
   ]
  },
  {
   "cell_type": "code",
   "execution_count": 41,
   "metadata": {},
   "outputs": [
    {
     "name": "stdout",
     "output_type": "stream",
     "text": [
      "mkdir: cannot create directory ‘bollywoodsongs/s3’: File exists\n"
     ]
    },
    {
     "data": {
      "text/plain": [
       "'s3://sagemaker-us-east-1-452957727655/data/train.npy'"
      ]
     },
     "execution_count": 41,
     "metadata": {},
     "output_type": "execute_result"
    }
   ],
   "source": [
    "# save data locally first\n",
    "dest = 'bollywoodsongs/s3'\n",
    "train_path = os.path.join(dest, 'train.npy')\n",
    "test_path = os.path.join(dest, 'test.npy')\n",
    "!mkdir {dest}\n",
    "np.save(train_path, df_train.values)\n",
    "np.save(test_path, df_test.values)\n",
    "\n",
    "# upload to S3 bucket for train\n",
    "sagemaker_session.upload_data(train_path, key_prefix='data')"
   ]
  },
  {
   "cell_type": "code",
   "execution_count": 42,
   "metadata": {},
   "outputs": [
    {
     "data": {
      "text/plain": [
       "'s3://sagemaker-us-east-1-452957727655/data/test.npy'"
      ]
     },
     "execution_count": 42,
     "metadata": {},
     "output_type": "execute_result"
    }
   ],
   "source": [
    "# upload to S3 bucket for test\n",
    "sagemaker_session.upload_data(test_path, key_prefix='data')"
   ]
  },
  {
   "cell_type": "code",
   "execution_count": null,
   "metadata": {},
   "outputs": [],
   "source": []
  }
 ],
 "metadata": {
  "kernelspec": {
   "display_name": "conda_python3",
   "language": "python",
   "name": "conda_python3"
  },
  "language_info": {
   "codemirror_mode": {
    "name": "ipython",
    "version": 3
   },
   "file_extension": ".py",
   "mimetype": "text/x-python",
   "name": "python",
   "nbconvert_exporter": "python",
   "pygments_lexer": "ipython3",
   "version": "3.6.13"
  }
 },
 "nbformat": 4,
 "nbformat_minor": 4
}
